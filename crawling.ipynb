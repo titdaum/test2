{
 "cells": [
  {
   "cell_type": "markdown",
   "metadata": {},
   "source": [
    "# 7. 부산 정보산업 진흥원-사업공고 crawling 프로젝트\n",
    "#### 1) 라이브러리 로드\n",
    "#### 2) 사업공고 리스트는 페이징 으로 구분\n",
    "#### 3) 재귀호출 형태로 함수 생성\n",
    "    3.1)crawling 할 주소에 페이지징 변수 처리\n",
    "#### 4) 함수 호출 시작\n",
    "#### 5) crawling 한 데이터를 csv파일로 저장\n",
    "#### 6) csv파일을 DataFrame 형태로 읽어온다.\n",
    "#### 7) stopword(불용어)를 적용해서 WordCloud로 표현하기\n",
    "#### 8) html 페이지 crawling시 에러\n",
    "    ▶ 증    상 - 한글깨짐현상\n",
    "    ▶ 해결방안 - response.encoding = 'UTF-8'\n",
    " #### 9) csv파일 읽을시 에러발생\n",
    "    ▶ 증     상 - error 코드 - UnicodeDecodeError: 'utf-8' codec can't decode byte 0xb0 in position 0: invalid start byte\n",
    "    ▶ 해결방안 - encoding='CP949')\n",
    "    1차 입니다.\n"
   ]
  },
  {
   "cell_type": "code",
   "execution_count": 33,
   "metadata": {},
   "outputs": [],
   "source": [
    "# 라이브러리 로드\n",
    "# requests는 작은 웹브라우저로 웹사이트 내용을 가져온다.\n",
    "import requests\n",
    "# BeautifulSoup 을 통해 읽어 온 웹페이지를 파싱한다.\n",
    "from bs4 import BeautifulSoup as bs"
   ]
  },
  {
   "cell_type": "code",
   "execution_count": 34,
   "metadata": {},
   "outputs": [],
   "source": [
    "    base_url = f\"http://busanit.or.kr/board/list.asp?bcode=notice&sword=&search_txt=\"\n",
    "    response = requests.get( base_url )\n",
    "    response.encoding = 'UTF-8'\n",
    "    soup = bs(response.text, 'html.parser')\n",
    "    # 소스코드를 제대로 가져왔는지 확인해 봅니다.\n",
    "    tbodys = soup.select(\"#sub_cont > div.content_sub > table > tbody\")\n",
    "\n",
    "    for tr in tbodys:\n",
    "        tds = list(tr.find_all('td'))\n",
    "        i = 1\n",
    "        for td in tds:\n",
    "            i=i+1\n",
    "            #print(td)\n",
    "            if td.find('a'):\n",
    "                title       = td.find('a').text \n",
    "                current_img = td.find('img')\n",
    "                img_src = current_img.get('src')\n",
    "                img_name = img_src.split('/')[-1]\n",
    "                \n",
    "                reg_date    = tds[i-1].text\n",
    "                view_count  = tds[i].text\n",
    "                #print(img_name, title, reg_date, view_count)\n",
    "                #print(img_name, title, reg_date, view_count)\n"
   ]
  },
  {
   "cell_type": "code",
   "execution_count": 35,
   "metadata": {},
   "outputs": [],
   "source": [
    "def get_notice_list(ipage):\n",
    "    base_url = f\"http://busanit.or.kr/board/list.asp?bcode=notice&sword=&search_txt=&ipage={ipage}\"\n",
    "    response = requests.get( base_url )\n",
    "    \n",
    "    print(response.status_code)\n",
    "    if response.status_code == 200:\n",
    "        response.encoding = 'UTF-8'\n",
    "        soup = bs(response.text, 'html.parser')\n",
    "        # 소스코드를 제대로 가져왔는지 확인해 봅니다.\n",
    "        tbodys = soup.select(\"#sub_cont > div.content_sub > table > tbody\")\n",
    "        for tr in tbodys:\n",
    "            tds = list(tr.find_all('td'))\n",
    "            i = 1\n",
    "            for td in tds:\n",
    "                i = i+1\n",
    "                if td.find('a'):\n",
    "                    current_img = td.find('img')\n",
    "                    img_src     = current_img.get('src')\n",
    "                    status      = img_src.split('/')[-1] # 사업공고 상태(진행중-ing / 종료-end)\n",
    "                    \n",
    "                    title       = td.find('a').text \n",
    "                    title       = title.replace(',','_')\n",
    "                    \n",
    "                    reg_date    = tds[i-1].text\n",
    "                    view_count  = tds[i].text\n",
    "                    notice_list.append([status, title, reg_date, view_count])    # data 리스트에 제목, 등록일 추가\n",
    "        ipage += 1\n",
    "        if ipage < 3:\n",
    "            # 페이지번호를 하나씩 더해서 재귀호출을 합니다.\n",
    "            get_notice_list(ipage)\n",
    "            #print(ipage)\n",
    "        else:\n",
    "            return(notice_list)        \n",
    "    else:\n",
    "        return(notice_list)\n"
   ]
  },
  {
   "cell_type": "code",
   "execution_count": 36,
   "metadata": {
    "scrolled": true
   },
   "outputs": [
    {
     "name": "stdout",
     "output_type": "stream",
     "text": [
      "200\n",
      "200\n"
     ]
    },
    {
     "data": {
      "text/plain": [
       "[['icon_ing.gif', '2020년 전자상거래 스타트업 스타일테크 지원사업 공고문', '2020-05-11', '34'],\n",
       " ['icon_ing.gif',\n",
       "  '2020 Bu:Star 하이퍼 캐주얼 게임콘텐츠 제작지원 사업 공고',\n",
       "  '2020-05-08',\n",
       "  '248'],\n",
       " ['icon_ing.gif', '2020 Bu:Star 프로토타입 게임콘텐츠 제작지원 사업 공고', '2020-05-08', '239'],\n",
       " ['icon_ing.gif',\n",
       "  '2020년 부산 VR/AR제작거점센터 VRAR융합콘텐츠 실증지원 사업 공고',\n",
       "  '2020-05-06',\n",
       "  '373'],\n",
       " ['icon_ing.gif', '게임콘텐츠 콘솔 컨버팅 지원사업 추가 모집 공고 ', '2020-05-04', '139'],\n",
       " ['icon_ing.gif',\n",
       "  '[재공고] 2020년 일자리 르네상스 부산(제조혁신 엔지니어링 서비스 고용창출) ..',\n",
       "  '2020-05-04',\n",
       "  '330'],\n",
       " ['icon_ing.gif',\n",
       "  '2020 게임콘텐츠 마케팅(글로벌_ 전략지원_ 런칭) 지원사업 통합공고',\n",
       "  '2020-05-04',\n",
       "  '328'],\n",
       " ['icon_ing.gif', '게임콘텐츠 글로벌 마케팅 지원사업 공고', '2020-04-28', '346'],\n",
       " ['icon_ing.gif', '「2020 유망기업 발굴 및 육성」용역 입찰 공고', '2020-04-28', '399'],\n",
       " ['icon_ing.gif',\n",
       "  '2020 부산음악창작소 [컴필레이션] 음반제작 지원사업 뮤지션 모집 공고',\n",
       "  '2020-04-24',\n",
       "  '476'],\n",
       " ['icon_ing.gif',\n",
       "  '2020 부산음악창작소 [정규/EP] 음반제작 지원사업 뮤지션 모집 공고',\n",
       "  '2020-04-24',\n",
       "  '819'],\n",
       " ['icon_end.gif',\n",
       "  '2020 스마트 물류 및 ICT분야 상용화 지원사업 SW품질관리 협력업체 선정 결..',\n",
       "  '2020-04-24',\n",
       "  '343'],\n",
       " ['icon_ing.gif', '2020 게임콘텐츠 빌드업(고급화)지원사업 공고', '2020-04-23', '478'],\n",
       " ['icon_ing.gif', '2020 스마트 물류 BI발굴 및 사업화 지원사업 공고', '2020-04-23', '546'],\n",
       " ['icon_end.gif', '2020 게임콘텐츠 글로벌 런칭 프로젝트 지원사업 공고', '2020-04-22', '419'],\n",
       " ['icon_end.gif', '2020 게임콘텐츠 마케팅 전략지원 사업공고', '2020-04-22', '406'],\n",
       " ['icon_end.gif', '2020 BuStar 게임콘텐츠 제작지원 사업 최종 선정결과 안내', '2020-04-21', '572'],\n",
       " ['icon_end.gif',\n",
       "  '『 부산 e스포츠 선수단 “GC부산”』매니지먼트 기업 모집 추가공고',\n",
       "  '2020-04-20',\n",
       "  '845'],\n",
       " ['icon_ing.gif',\n",
       "  '2020년 SW관리체계 컨설팅 지원사업 공고(※ 코로나19 확산 방지 등을 위하여..',\n",
       "  '2020-04-20',\n",
       "  '435'],\n",
       " ['icon_ing.gif', '국가인적자원개발컨소시엄 5월 교육과정', '2020-04-20', '260']]"
      ]
     },
     "execution_count": 36,
     "metadata": {},
     "output_type": "execute_result"
    }
   ],
   "source": [
    "# 목록의 내용만 크롤링 해옵니다.\n",
    "# 목록의 링크 값을 가져와 suggestion_list 리스트에 담아줍니다.\n",
    "notice_list = []\n",
    "ipage = 1\n",
    "\n",
    "get_notice_list(ipage)\n",
    "notice_list\n"
   ]
  },
  {
   "cell_type": "code",
   "execution_count": 38,
   "metadata": {},
   "outputs": [],
   "source": [
    "with open('busanit_BusinessNotice1.csv', 'w') as file:    # busanit_BusinessNotice.csv 파일을 쓰기 모드로 열기\n",
    "    file.write('status, title, reg_date, view_count\\n')                       # 컬럼 이름 추가\n",
    "    for i in notice_list:                                       # data를 반복하면서\n",
    "        #print(i[1])\n",
    "        file.write('{0},{1},{2},{3}\\n'.format(i[0],i[1],i[2],i[3]))    # 등록일,사업공고제목을 줄 단위로 저장"
   ]
  },
  {
   "cell_type": "code",
   "execution_count": 39,
   "metadata": {},
   "outputs": [],
   "source": [
    "# %matplotlib inline을 설정하면 matplotlib.pyplot의 show 함수를 호출하지 않아도\n",
    "# 주피터 노트북 안에서 그래프가 표시됨\n",
    "%matplotlib inline\n",
    "import pandas as pd                # 데이터를 저장하고 처리하는 패키지\n",
    "import matplotlib as mpl           # 그래프를 그리는 패키지\n",
    "import matplotlib.pyplot as plt    # 그래프를 그리는 패키지"
   ]
  },
  {
   "cell_type": "code",
   "execution_count": 40,
   "metadata": {},
   "outputs": [],
   "source": [
    "#print(len(suggestion_list))\n",
    "#suggestion_list[:3]"
   ]
  },
  {
   "cell_type": "code",
   "execution_count": 59,
   "metadata": {
    "scrolled": true
   },
   "outputs": [
    {
     "data": {
      "text/plain": [
       "(8, 4)"
      ]
     },
     "execution_count": 59,
     "metadata": {},
     "output_type": "execute_result"
    }
   ],
   "source": [
    "# csv 파일을 읽어서 DataFrame 객체로 만듦. 인덱스 컬럼은 point로 설정 , encoding='CP949'\n",
    "df = pd.read_csv('busanit_BusinessNotice1.csv', encoding='CP949')\n",
    "df.head()    # df 표시\n",
    "df.tail()\n",
    "df.shape\n"
   ]
  },
  {
   "cell_type": "code",
   "execution_count": 65,
   "metadata": {},
   "outputs": [
    {
     "ename": "KeyError",
     "evalue": "'title1'",
     "output_type": "error",
     "traceback": [
      "\u001b[1;31m---------------------------------------------------------------------------\u001b[0m",
      "\u001b[1;31mKeyError\u001b[0m                                  Traceback (most recent call last)",
      "\u001b[1;32mC:\\ProgramData\\Anaconda3\\envs\\jmkim\\lib\\site-packages\\pandas\\core\\indexes\\base.py\u001b[0m in \u001b[0;36mget_loc\u001b[1;34m(self, key, method, tolerance)\u001b[0m\n\u001b[0;32m   2645\u001b[0m             \u001b[1;32mtry\u001b[0m\u001b[1;33m:\u001b[0m\u001b[1;33m\u001b[0m\u001b[1;33m\u001b[0m\u001b[0m\n\u001b[1;32m-> 2646\u001b[1;33m                 \u001b[1;32mreturn\u001b[0m \u001b[0mself\u001b[0m\u001b[1;33m.\u001b[0m\u001b[0m_engine\u001b[0m\u001b[1;33m.\u001b[0m\u001b[0mget_loc\u001b[0m\u001b[1;33m(\u001b[0m\u001b[0mkey\u001b[0m\u001b[1;33m)\u001b[0m\u001b[1;33m\u001b[0m\u001b[1;33m\u001b[0m\u001b[0m\n\u001b[0m\u001b[0;32m   2647\u001b[0m             \u001b[1;32mexcept\u001b[0m \u001b[0mKeyError\u001b[0m\u001b[1;33m:\u001b[0m\u001b[1;33m\u001b[0m\u001b[1;33m\u001b[0m\u001b[0m\n",
      "\u001b[1;32mpandas\\_libs\\index.pyx\u001b[0m in \u001b[0;36mpandas._libs.index.IndexEngine.get_loc\u001b[1;34m()\u001b[0m\n",
      "\u001b[1;32mpandas\\_libs\\index.pyx\u001b[0m in \u001b[0;36mpandas._libs.index.IndexEngine.get_loc\u001b[1;34m()\u001b[0m\n",
      "\u001b[1;32mpandas\\_libs\\hashtable_class_helper.pxi\u001b[0m in \u001b[0;36mpandas._libs.hashtable.PyObjectHashTable.get_item\u001b[1;34m()\u001b[0m\n",
      "\u001b[1;32mpandas\\_libs\\hashtable_class_helper.pxi\u001b[0m in \u001b[0;36mpandas._libs.hashtable.PyObjectHashTable.get_item\u001b[1;34m()\u001b[0m\n",
      "\u001b[1;31mKeyError\u001b[0m: 'title1'",
      "\nDuring handling of the above exception, another exception occurred:\n",
      "\u001b[1;31mKeyError\u001b[0m                                  Traceback (most recent call last)",
      "\u001b[1;32m<ipython-input-65-72d9552c50f6>\u001b[0m in \u001b[0;36m<module>\u001b[1;34m\u001b[0m\n\u001b[1;32m----> 1\u001b[1;33m \u001b[0mdf\u001b[0m\u001b[1;33m[\u001b[0m\u001b[1;34m'title1'\u001b[0m\u001b[1;33m]\u001b[0m\u001b[1;33m\u001b[0m\u001b[1;33m\u001b[0m\u001b[0m\n\u001b[0m\u001b[0;32m      2\u001b[0m \u001b[1;31m#c_df = df.copy()\u001b[0m\u001b[1;33m\u001b[0m\u001b[1;33m\u001b[0m\u001b[1;33m\u001b[0m\u001b[0m\n\u001b[0;32m      3\u001b[0m \u001b[1;31m#c_df\u001b[0m\u001b[1;33m\u001b[0m\u001b[1;33m\u001b[0m\u001b[1;33m\u001b[0m\u001b[0m\n\u001b[0;32m      4\u001b[0m \u001b[1;31m#df.dtypes\u001b[0m\u001b[1;33m\u001b[0m\u001b[1;33m\u001b[0m\u001b[1;33m\u001b[0m\u001b[0m\n\u001b[0;32m      5\u001b[0m \u001b[1;31m#df.describe()\u001b[0m\u001b[1;33m\u001b[0m\u001b[1;33m\u001b[0m\u001b[1;33m\u001b[0m\u001b[0m\n",
      "\u001b[1;32mC:\\ProgramData\\Anaconda3\\envs\\jmkim\\lib\\site-packages\\pandas\\core\\frame.py\u001b[0m in \u001b[0;36m__getitem__\u001b[1;34m(self, key)\u001b[0m\n\u001b[0;32m   2798\u001b[0m             \u001b[1;32mif\u001b[0m \u001b[0mself\u001b[0m\u001b[1;33m.\u001b[0m\u001b[0mcolumns\u001b[0m\u001b[1;33m.\u001b[0m\u001b[0mnlevels\u001b[0m \u001b[1;33m>\u001b[0m \u001b[1;36m1\u001b[0m\u001b[1;33m:\u001b[0m\u001b[1;33m\u001b[0m\u001b[1;33m\u001b[0m\u001b[0m\n\u001b[0;32m   2799\u001b[0m                 \u001b[1;32mreturn\u001b[0m \u001b[0mself\u001b[0m\u001b[1;33m.\u001b[0m\u001b[0m_getitem_multilevel\u001b[0m\u001b[1;33m(\u001b[0m\u001b[0mkey\u001b[0m\u001b[1;33m)\u001b[0m\u001b[1;33m\u001b[0m\u001b[1;33m\u001b[0m\u001b[0m\n\u001b[1;32m-> 2800\u001b[1;33m             \u001b[0mindexer\u001b[0m \u001b[1;33m=\u001b[0m \u001b[0mself\u001b[0m\u001b[1;33m.\u001b[0m\u001b[0mcolumns\u001b[0m\u001b[1;33m.\u001b[0m\u001b[0mget_loc\u001b[0m\u001b[1;33m(\u001b[0m\u001b[0mkey\u001b[0m\u001b[1;33m)\u001b[0m\u001b[1;33m\u001b[0m\u001b[1;33m\u001b[0m\u001b[0m\n\u001b[0m\u001b[0;32m   2801\u001b[0m             \u001b[1;32mif\u001b[0m \u001b[0mis_integer\u001b[0m\u001b[1;33m(\u001b[0m\u001b[0mindexer\u001b[0m\u001b[1;33m)\u001b[0m\u001b[1;33m:\u001b[0m\u001b[1;33m\u001b[0m\u001b[1;33m\u001b[0m\u001b[0m\n\u001b[0;32m   2802\u001b[0m                 \u001b[0mindexer\u001b[0m \u001b[1;33m=\u001b[0m \u001b[1;33m[\u001b[0m\u001b[0mindexer\u001b[0m\u001b[1;33m]\u001b[0m\u001b[1;33m\u001b[0m\u001b[1;33m\u001b[0m\u001b[0m\n",
      "\u001b[1;32mC:\\ProgramData\\Anaconda3\\envs\\jmkim\\lib\\site-packages\\pandas\\core\\indexes\\base.py\u001b[0m in \u001b[0;36mget_loc\u001b[1;34m(self, key, method, tolerance)\u001b[0m\n\u001b[0;32m   2646\u001b[0m                 \u001b[1;32mreturn\u001b[0m \u001b[0mself\u001b[0m\u001b[1;33m.\u001b[0m\u001b[0m_engine\u001b[0m\u001b[1;33m.\u001b[0m\u001b[0mget_loc\u001b[0m\u001b[1;33m(\u001b[0m\u001b[0mkey\u001b[0m\u001b[1;33m)\u001b[0m\u001b[1;33m\u001b[0m\u001b[1;33m\u001b[0m\u001b[0m\n\u001b[0;32m   2647\u001b[0m             \u001b[1;32mexcept\u001b[0m \u001b[0mKeyError\u001b[0m\u001b[1;33m:\u001b[0m\u001b[1;33m\u001b[0m\u001b[1;33m\u001b[0m\u001b[0m\n\u001b[1;32m-> 2648\u001b[1;33m                 \u001b[1;32mreturn\u001b[0m \u001b[0mself\u001b[0m\u001b[1;33m.\u001b[0m\u001b[0m_engine\u001b[0m\u001b[1;33m.\u001b[0m\u001b[0mget_loc\u001b[0m\u001b[1;33m(\u001b[0m\u001b[0mself\u001b[0m\u001b[1;33m.\u001b[0m\u001b[0m_maybe_cast_indexer\u001b[0m\u001b[1;33m(\u001b[0m\u001b[0mkey\u001b[0m\u001b[1;33m)\u001b[0m\u001b[1;33m)\u001b[0m\u001b[1;33m\u001b[0m\u001b[1;33m\u001b[0m\u001b[0m\n\u001b[0m\u001b[0;32m   2649\u001b[0m         \u001b[0mindexer\u001b[0m \u001b[1;33m=\u001b[0m \u001b[0mself\u001b[0m\u001b[1;33m.\u001b[0m\u001b[0mget_indexer\u001b[0m\u001b[1;33m(\u001b[0m\u001b[1;33m[\u001b[0m\u001b[0mkey\u001b[0m\u001b[1;33m]\u001b[0m\u001b[1;33m,\u001b[0m \u001b[0mmethod\u001b[0m\u001b[1;33m=\u001b[0m\u001b[0mmethod\u001b[0m\u001b[1;33m,\u001b[0m \u001b[0mtolerance\u001b[0m\u001b[1;33m=\u001b[0m\u001b[0mtolerance\u001b[0m\u001b[1;33m)\u001b[0m\u001b[1;33m\u001b[0m\u001b[1;33m\u001b[0m\u001b[0m\n\u001b[0;32m   2650\u001b[0m         \u001b[1;32mif\u001b[0m \u001b[0mindexer\u001b[0m\u001b[1;33m.\u001b[0m\u001b[0mndim\u001b[0m \u001b[1;33m>\u001b[0m \u001b[1;36m1\u001b[0m \u001b[1;32mor\u001b[0m \u001b[0mindexer\u001b[0m\u001b[1;33m.\u001b[0m\u001b[0msize\u001b[0m \u001b[1;33m>\u001b[0m \u001b[1;36m1\u001b[0m\u001b[1;33m:\u001b[0m\u001b[1;33m\u001b[0m\u001b[1;33m\u001b[0m\u001b[0m\n",
      "\u001b[1;32mpandas\\_libs\\index.pyx\u001b[0m in \u001b[0;36mpandas._libs.index.IndexEngine.get_loc\u001b[1;34m()\u001b[0m\n",
      "\u001b[1;32mpandas\\_libs\\index.pyx\u001b[0m in \u001b[0;36mpandas._libs.index.IndexEngine.get_loc\u001b[1;34m()\u001b[0m\n",
      "\u001b[1;32mpandas\\_libs\\hashtable_class_helper.pxi\u001b[0m in \u001b[0;36mpandas._libs.hashtable.PyObjectHashTable.get_item\u001b[1;34m()\u001b[0m\n",
      "\u001b[1;32mpandas\\_libs\\hashtable_class_helper.pxi\u001b[0m in \u001b[0;36mpandas._libs.hashtable.PyObjectHashTable.get_item\u001b[1;34m()\u001b[0m\n",
      "\u001b[1;31mKeyError\u001b[0m: 'title1'"
     ]
    }
   ],
   "source": [
    "#c_df = df.copy()\n",
    "#c_df\n",
    "#df.dtypes\n",
    "#df.describe()\n",
    "#df.loc[df['status'] == 'icon_end.gif','status'] = 0\n",
    "#df.loc[df['status'] == 'icon_ing.gif', 'status'] = 1\n",
    "df"
   ]
  },
  {
   "cell_type": "code",
   "execution_count": 56,
   "metadata": {},
   "outputs": [],
   "source": [
    "# 불용어 - 자주 등장하지만 의미가 크지 않아 제외하고 싶은 텍스트\n",
    "stopwords = [\"지원사업\", \"2020년\",\"공고\",\"모집\",\"지원사업\",\"안내\",\"제작지원\",\"부산\"]\n",
    "#              \"올해\", \"올해는\", \"열심히\", \"공부를\", \"합니다\", \"하고\", \"싶어요\", \n",
    "#              \"있는\", \"있습니다\", \"싶습니다\", \"2020년\"]\n",
    "# 불용어를 제거하지 않고 그리려면 아래 주석을 풀어서 stopword 변수에 덮어쓰기를 합니다.\n",
    "# stopwords = []\n",
    "# displayWordCloud 라는 함수를 만들어 재사용합니다.\n",
    "from wordcloud import WordCloud\n"
   ]
  },
  {
   "cell_type": "code",
   "execution_count": 57,
   "metadata": {},
   "outputs": [],
   "source": [
    "def displayWordCloud(data = None, backgroundcolor = 'black', width=1280, height=768):\n",
    "    wordcloud = WordCloud(\n",
    "                        font_path = 'C:/Windows/Fonts/malgun.ttf', \n",
    "                        stopwords = stopwords, \n",
    "                        background_color = backgroundcolor, \n",
    "                        width = width, height = height, \n",
    "                        random_state=42).generate(data)\n",
    "    plt.figure(figsize = (15 , 10))\n",
    "    plt.imshow(wordcloud)\n",
    "    plt.axis(\"off\")\n",
    "    plt.show() "
   ]
  },
  {
   "cell_type": "code",
   "execution_count": 58,
   "metadata": {
    "scrolled": true
   },
   "outputs": [
    {
     "ename": "KeyError",
     "evalue": "'title1'",
     "output_type": "error",
     "traceback": [
      "\u001b[1;31m---------------------------------------------------------------------------\u001b[0m",
      "\u001b[1;31mKeyError\u001b[0m                                  Traceback (most recent call last)",
      "\u001b[1;32mC:\\ProgramData\\Anaconda3\\envs\\jmkim\\lib\\site-packages\\pandas\\core\\indexes\\base.py\u001b[0m in \u001b[0;36mget_loc\u001b[1;34m(self, key, method, tolerance)\u001b[0m\n\u001b[0;32m   2645\u001b[0m             \u001b[1;32mtry\u001b[0m\u001b[1;33m:\u001b[0m\u001b[1;33m\u001b[0m\u001b[1;33m\u001b[0m\u001b[0m\n\u001b[1;32m-> 2646\u001b[1;33m                 \u001b[1;32mreturn\u001b[0m \u001b[0mself\u001b[0m\u001b[1;33m.\u001b[0m\u001b[0m_engine\u001b[0m\u001b[1;33m.\u001b[0m\u001b[0mget_loc\u001b[0m\u001b[1;33m(\u001b[0m\u001b[0mkey\u001b[0m\u001b[1;33m)\u001b[0m\u001b[1;33m\u001b[0m\u001b[1;33m\u001b[0m\u001b[0m\n\u001b[0m\u001b[0;32m   2647\u001b[0m             \u001b[1;32mexcept\u001b[0m \u001b[0mKeyError\u001b[0m\u001b[1;33m:\u001b[0m\u001b[1;33m\u001b[0m\u001b[1;33m\u001b[0m\u001b[0m\n",
      "\u001b[1;32mpandas\\_libs\\index.pyx\u001b[0m in \u001b[0;36mpandas._libs.index.IndexEngine.get_loc\u001b[1;34m()\u001b[0m\n",
      "\u001b[1;32mpandas\\_libs\\index.pyx\u001b[0m in \u001b[0;36mpandas._libs.index.IndexEngine.get_loc\u001b[1;34m()\u001b[0m\n",
      "\u001b[1;32mpandas\\_libs\\hashtable_class_helper.pxi\u001b[0m in \u001b[0;36mpandas._libs.hashtable.PyObjectHashTable.get_item\u001b[1;34m()\u001b[0m\n",
      "\u001b[1;32mpandas\\_libs\\hashtable_class_helper.pxi\u001b[0m in \u001b[0;36mpandas._libs.hashtable.PyObjectHashTable.get_item\u001b[1;34m()\u001b[0m\n",
      "\u001b[1;31mKeyError\u001b[0m: 'title1'",
      "\nDuring handling of the above exception, another exception occurred:\n",
      "\u001b[1;31mKeyError\u001b[0m                                  Traceback (most recent call last)",
      "\u001b[1;32m<ipython-input-58-5307c19531d7>\u001b[0m in \u001b[0;36m<module>\u001b[1;34m\u001b[0m\n\u001b[1;32m----> 1\u001b[1;33m \u001b[0mcourse_text\u001b[0m \u001b[1;33m=\u001b[0m \u001b[1;34m\" \"\u001b[0m\u001b[1;33m.\u001b[0m\u001b[0mjoin\u001b[0m\u001b[1;33m(\u001b[0m\u001b[0mdf\u001b[0m\u001b[1;33m[\u001b[0m\u001b[1;34m\"title1\"\u001b[0m\u001b[1;33m]\u001b[0m\u001b[1;33m.\u001b[0m\u001b[0mfillna\u001b[0m\u001b[1;33m(\u001b[0m\u001b[1;34m''\u001b[0m\u001b[1;33m)\u001b[0m\u001b[1;33m)\u001b[0m\u001b[1;33m\u001b[0m\u001b[1;33m\u001b[0m\u001b[0m\n\u001b[0m\u001b[0;32m      2\u001b[0m \u001b[0mdisplayWordCloud\u001b[0m\u001b[1;33m(\u001b[0m\u001b[0mcourse_text\u001b[0m\u001b[1;33m)\u001b[0m\u001b[1;33m\u001b[0m\u001b[1;33m\u001b[0m\u001b[0m\n",
      "\u001b[1;32mC:\\ProgramData\\Anaconda3\\envs\\jmkim\\lib\\site-packages\\pandas\\core\\frame.py\u001b[0m in \u001b[0;36m__getitem__\u001b[1;34m(self, key)\u001b[0m\n\u001b[0;32m   2798\u001b[0m             \u001b[1;32mif\u001b[0m \u001b[0mself\u001b[0m\u001b[1;33m.\u001b[0m\u001b[0mcolumns\u001b[0m\u001b[1;33m.\u001b[0m\u001b[0mnlevels\u001b[0m \u001b[1;33m>\u001b[0m \u001b[1;36m1\u001b[0m\u001b[1;33m:\u001b[0m\u001b[1;33m\u001b[0m\u001b[1;33m\u001b[0m\u001b[0m\n\u001b[0;32m   2799\u001b[0m                 \u001b[1;32mreturn\u001b[0m \u001b[0mself\u001b[0m\u001b[1;33m.\u001b[0m\u001b[0m_getitem_multilevel\u001b[0m\u001b[1;33m(\u001b[0m\u001b[0mkey\u001b[0m\u001b[1;33m)\u001b[0m\u001b[1;33m\u001b[0m\u001b[1;33m\u001b[0m\u001b[0m\n\u001b[1;32m-> 2800\u001b[1;33m             \u001b[0mindexer\u001b[0m \u001b[1;33m=\u001b[0m \u001b[0mself\u001b[0m\u001b[1;33m.\u001b[0m\u001b[0mcolumns\u001b[0m\u001b[1;33m.\u001b[0m\u001b[0mget_loc\u001b[0m\u001b[1;33m(\u001b[0m\u001b[0mkey\u001b[0m\u001b[1;33m)\u001b[0m\u001b[1;33m\u001b[0m\u001b[1;33m\u001b[0m\u001b[0m\n\u001b[0m\u001b[0;32m   2801\u001b[0m             \u001b[1;32mif\u001b[0m \u001b[0mis_integer\u001b[0m\u001b[1;33m(\u001b[0m\u001b[0mindexer\u001b[0m\u001b[1;33m)\u001b[0m\u001b[1;33m:\u001b[0m\u001b[1;33m\u001b[0m\u001b[1;33m\u001b[0m\u001b[0m\n\u001b[0;32m   2802\u001b[0m                 \u001b[0mindexer\u001b[0m \u001b[1;33m=\u001b[0m \u001b[1;33m[\u001b[0m\u001b[0mindexer\u001b[0m\u001b[1;33m]\u001b[0m\u001b[1;33m\u001b[0m\u001b[1;33m\u001b[0m\u001b[0m\n",
      "\u001b[1;32mC:\\ProgramData\\Anaconda3\\envs\\jmkim\\lib\\site-packages\\pandas\\core\\indexes\\base.py\u001b[0m in \u001b[0;36mget_loc\u001b[1;34m(self, key, method, tolerance)\u001b[0m\n\u001b[0;32m   2646\u001b[0m                 \u001b[1;32mreturn\u001b[0m \u001b[0mself\u001b[0m\u001b[1;33m.\u001b[0m\u001b[0m_engine\u001b[0m\u001b[1;33m.\u001b[0m\u001b[0mget_loc\u001b[0m\u001b[1;33m(\u001b[0m\u001b[0mkey\u001b[0m\u001b[1;33m)\u001b[0m\u001b[1;33m\u001b[0m\u001b[1;33m\u001b[0m\u001b[0m\n\u001b[0;32m   2647\u001b[0m             \u001b[1;32mexcept\u001b[0m \u001b[0mKeyError\u001b[0m\u001b[1;33m:\u001b[0m\u001b[1;33m\u001b[0m\u001b[1;33m\u001b[0m\u001b[0m\n\u001b[1;32m-> 2648\u001b[1;33m                 \u001b[1;32mreturn\u001b[0m \u001b[0mself\u001b[0m\u001b[1;33m.\u001b[0m\u001b[0m_engine\u001b[0m\u001b[1;33m.\u001b[0m\u001b[0mget_loc\u001b[0m\u001b[1;33m(\u001b[0m\u001b[0mself\u001b[0m\u001b[1;33m.\u001b[0m\u001b[0m_maybe_cast_indexer\u001b[0m\u001b[1;33m(\u001b[0m\u001b[0mkey\u001b[0m\u001b[1;33m)\u001b[0m\u001b[1;33m)\u001b[0m\u001b[1;33m\u001b[0m\u001b[1;33m\u001b[0m\u001b[0m\n\u001b[0m\u001b[0;32m   2649\u001b[0m         \u001b[0mindexer\u001b[0m \u001b[1;33m=\u001b[0m \u001b[0mself\u001b[0m\u001b[1;33m.\u001b[0m\u001b[0mget_indexer\u001b[0m\u001b[1;33m(\u001b[0m\u001b[1;33m[\u001b[0m\u001b[0mkey\u001b[0m\u001b[1;33m]\u001b[0m\u001b[1;33m,\u001b[0m \u001b[0mmethod\u001b[0m\u001b[1;33m=\u001b[0m\u001b[0mmethod\u001b[0m\u001b[1;33m,\u001b[0m \u001b[0mtolerance\u001b[0m\u001b[1;33m=\u001b[0m\u001b[0mtolerance\u001b[0m\u001b[1;33m)\u001b[0m\u001b[1;33m\u001b[0m\u001b[1;33m\u001b[0m\u001b[0m\n\u001b[0;32m   2650\u001b[0m         \u001b[1;32mif\u001b[0m \u001b[0mindexer\u001b[0m\u001b[1;33m.\u001b[0m\u001b[0mndim\u001b[0m \u001b[1;33m>\u001b[0m \u001b[1;36m1\u001b[0m \u001b[1;32mor\u001b[0m \u001b[0mindexer\u001b[0m\u001b[1;33m.\u001b[0m\u001b[0msize\u001b[0m \u001b[1;33m>\u001b[0m \u001b[1;36m1\u001b[0m\u001b[1;33m:\u001b[0m\u001b[1;33m\u001b[0m\u001b[1;33m\u001b[0m\u001b[0m\n",
      "\u001b[1;32mpandas\\_libs\\index.pyx\u001b[0m in \u001b[0;36mpandas._libs.index.IndexEngine.get_loc\u001b[1;34m()\u001b[0m\n",
      "\u001b[1;32mpandas\\_libs\\index.pyx\u001b[0m in \u001b[0;36mpandas._libs.index.IndexEngine.get_loc\u001b[1;34m()\u001b[0m\n",
      "\u001b[1;32mpandas\\_libs\\hashtable_class_helper.pxi\u001b[0m in \u001b[0;36mpandas._libs.hashtable.PyObjectHashTable.get_item\u001b[1;34m()\u001b[0m\n",
      "\u001b[1;32mpandas\\_libs\\hashtable_class_helper.pxi\u001b[0m in \u001b[0;36mpandas._libs.hashtable.PyObjectHashTable.get_item\u001b[1;34m()\u001b[0m\n",
      "\u001b[1;31mKeyError\u001b[0m: 'title1'"
     ]
    }
   ],
   "source": [
    "course_text = \" \".join(df[\"title1\"].fillna(''))\n",
    "displayWordCloud(course_text)"
   ]
  },
  {
   "cell_type": "code",
   "execution_count": null,
   "metadata": {},
   "outputs": [],
   "source": []
  }
 ],
 "metadata": {
  "kernelspec": {
   "display_name": "Python 3",
   "language": "python",
   "name": "python3"
  },
  "language_info": {
   "codemirror_mode": {
    "name": "ipython",
    "version": 3
   },
   "file_extension": ".py",
   "mimetype": "text/x-python",
   "name": "python",
   "nbconvert_exporter": "python",
   "pygments_lexer": "ipython3",
   "version": "3.7.7"
  }
 },
 "nbformat": 4,
 "nbformat_minor": 4
}